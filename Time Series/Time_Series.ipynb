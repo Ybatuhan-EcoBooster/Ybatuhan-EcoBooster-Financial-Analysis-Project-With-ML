{
 "cells": [
  {
   "cell_type": "code",
   "execution_count": null,
   "metadata": {},
   "outputs": [],
   "source": [
    "# Core Libraries\n",
    "import pandas as pd\n",
    "import numpy as np\n",
    "\n",
    "\n",
    "# Visualizing\n",
    "import seaborn as sns\n",
    "import matplotlib.pyplot as plt\n",
    "from statsmodels.graphics.tsaplots import plot_pacf, plot_acf\n",
    "\n",
    "# Analysis\n",
    "import statsmodels.api as sm\n",
    "from statsmodels.tsa.arima_model import ARIMA\n",
    "from sklearn.metrics import mean_absolute_error,mean_squared_error\n",
    "import pmdarima as pm"
   ]
  },
  {
   "attachments": {},
   "cell_type": "markdown",
   "metadata": {},
   "source": [
    "# The U.S. Historical Unemployment Data Set"
   ]
  },
  {
   "attachments": {},
   "cell_type": "markdown",
   "metadata": {},
   "source": [
    "### Exploratory Data "
   ]
  },
  {
   "cell_type": "code",
   "execution_count": null,
   "metadata": {},
   "outputs": [],
   "source": [
    "Raw_Data = pd.read_csv(\"UNRATE.csv\")                     #Unemployement Rate\n",
    "Raw_Data[\"DATE\"] = pd.DatetimeIndex(Raw_Data[\"DATE\"])\n",
    "\n",
    "Raw_Data = Raw_Data.set_index(\"DATE\")\n",
    "Raw_Data"
   ]
  },
  {
   "cell_type": "code",
   "execution_count": null,
   "metadata": {},
   "outputs": [],
   "source": [
    "sns.set_theme(style=\"darkgrid\")\n",
    "\n",
    "Graph = sns.lineplot(data=Raw_Data, x = Raw_Data.index,y = \"UNRATE\")"
   ]
  },
  {
   "attachments": {},
   "cell_type": "markdown",
   "metadata": {},
   "source": [
    "## Data Set Analysis"
   ]
  },
  {
   "cell_type": "code",
   "execution_count": null,
   "metadata": {},
   "outputs": [],
   "source": [
    "UnRate = Raw_Data\n",
    "UnRate.index = pd.to_datetime(UnRate.index, format='%Y-%m')\n",
    "UnRate_Monthly = UnRate[\"UNRATE\"]\n",
    "UnRate_Monthly = UnRate_Monthly.asfreq(\"M\", method='bfill')  # Frequency is Monthly\n",
    "UnRate_Monthly.dropna(inplace=True)\n",
    "\n",
    "plt.rcParams['figure.figsize'] = [30,10]\n",
    "decomposition = sm.tsa.seasonal_decompose(UnRate_Monthly,model='additive')\n",
    "fig = decomposition.plot()\n",
    "plt.show()"
   ]
  },
  {
   "attachments": {},
   "cell_type": "markdown",
   "metadata": {},
   "source": [
    "### ACF - PACF"
   ]
  },
  {
   "cell_type": "code",
   "execution_count": null,
   "metadata": {},
   "outputs": [],
   "source": [
    "\n",
    "fig, (ax1, ax2) = plt.subplots(1, 2,figsize=(20,5), dpi= 100)\n",
    "\n",
    "plot_acf(UnRate_Monthly, ax=ax1, lags=48)\n",
    "plot_pacf(UnRate_Monthly, ax=ax2, lags=48, method=\"ywm\")\n",
    "\n",
    "plt.show()"
   ]
  },
  {
   "attachments": {},
   "cell_type": "markdown",
   "metadata": {},
   "source": [
    "### Stationary Controlling"
   ]
  },
  {
   "cell_type": "code",
   "execution_count": null,
   "metadata": {},
   "outputs": [],
   "source": [
    "def adf(data):\n",
    "    adf_test = sm.tsa.adfuller(data, autolag='AIC')\n",
    "    print(f'ADF Statistic: {adf_test[0]}')\n",
    "    print(f'p-value: {adf_test[1]}')\n",
    "    print(f'# of Lags Used: {adf_test[2]}')\n",
    "    print(f'Number of Observations Used: {adf_test[3]}')\n",
    "    print(\"Series is not stationary\") if adf_test[1] > 0.05 else print(\"Series is stationary (No Unit Root)\")\n",
    "\n",
    "# KPSS Test:\n",
    "\n",
    "def kpss(data):\n",
    "    kpss_test = sm.tsa.kpss(data)\n",
    "    print('KPSS Statistic: %f' % kpss_test[0])\n",
    "    print('p-value: %f' % kpss_test[1])\n",
    "    print(\"Series is stationary\") if kpss_test[1] > 0.05 else print(\"Series is not stationary(Serial Contains Unit Root)\")\n",
    "\n",
    "print(adf(UnRate_Monthly))\n",
    "print(kpss(UnRate_Monthly))"
   ]
  },
  {
   "cell_type": "code",
   "execution_count": null,
   "metadata": {},
   "outputs": [],
   "source": [
    "UnRate_Monthly = pd.DataFrame(UnRate_Monthly)\n",
    "UnRate_Daily_Diff = UnRate_Monthly[\"UNRATE\"] - UnRate_Monthly[\"UNRATE\"].shift(1)\n",
    "UnRate_Daily_Diff = UnRate_Daily_Diff.dropna()\n",
    "\n",
    "\n",
    "fig, (ax1, ax2) = plt.subplots(1, 2,figsize=(20,5), dpi= 70)\n",
    "\n",
    "plot_acf(UnRate_Daily_Diff.to_list(), ax=ax1, lags=48)\n",
    "plot_pacf(UnRate_Daily_Diff.to_list(), ax=ax2, lags=48, method=\"ywm\")\n",
    "\n",
    "plt.show()\n",
    "\n",
    "print(adf(UnRate_Daily_Diff))\n",
    "print()\n",
    "print(kpss(UnRate_Daily_Diff))"
   ]
  },
  {
   "attachments": {},
   "cell_type": "markdown",
   "metadata": {},
   "source": [
    "## Time Series Analysis (TS)"
   ]
  },
  {
   "cell_type": "code",
   "execution_count": null,
   "metadata": {},
   "outputs": [],
   "source": [
    "separator = int(len(UnRate)*0.80)\n",
    "\n",
    "Train = UnRate_Monthly.iloc[:separator].copy()\n",
    "Test  = UnRate_Monthly.iloc[separator:].copy()\n",
    "\n",
    "plt.figure(figsize=(30,10))\n",
    "plt.plot(Train,label='Training Data')\n",
    "plt.plot(Test,label='Testing Data')\n",
    "plt.plot(UnRate_Daily_Diff, label = \"Diffirence Data Set\")\n",
    "plt.title(\"Apple Inc. Train and Test Values\")\n",
    "plt.xlabel(\"Years\")\n",
    "plt.ylabel(\"Prices\")\n",
    "plt.legend(loc=\"upper left\")"
   ]
  },
  {
   "cell_type": "code",
   "execution_count": null,
   "metadata": {},
   "outputs": [],
   "source": [
    "Arima_Model = sm.tsa.arima.ARIMA(Train[\"UNRATE\"], order= (1,1,1))\n",
    "Arima_Model_fit = Arima_Model.fit()\n",
    "\n",
    "Arima_Forecast = Arima_Model_fit.forecast(len(Test))\n",
    "Arima_Forecast = pd.DataFrame(Arima_Forecast,index = Test.index)\n",
    "Arima_Forecast.rename(columns={0:\"Forecast\"}, inplace= True)\n",
    "\n",
    "UNRATE_Pred = Test.copy()\n",
    "UNRATE_Pred[\"Arima_pred\"] = Arima_Forecast\n",
    "UNRATE_Pred.round(decimals= 3)\n",
    "\n",
    "mae = mean_absolute_error(Test,Arima_Forecast)\n",
    "rsme = np.sqrt(mean_squared_error(Test,Arima_Forecast))\n",
    "\n",
    "plt.figure(figsize=(22,4))\n",
    "sns.lineplot(data = UNRATE_Pred[['UNRATE', 'Arima_pred']]).set(title = f\"MAE: {mae.round()}, SMA: {rsme.round()}, ARIMA\")\n",
    "plt.show()\n",
    "\n",
    "\n",
    "print(Arima_Model_fit.summary())"
   ]
  },
  {
   "attachments": {},
   "cell_type": "markdown",
   "metadata": {},
   "source": [
    "#### Improving TS Model"
   ]
  },
  {
   "cell_type": "code",
   "execution_count": null,
   "metadata": {},
   "outputs": [],
   "source": [
    "Final_ts = pd.DataFrame(columns=[\"Date\",\"UNRATE\"])\n",
    "Final_ts[\"Date\"] = pd.DatetimeIndex(Raw_Data.index).to_period(\"D\")\n",
    "Final_ts[\"UNRATE\"] = Raw_Data[\"UNRATE\"].values\n",
    "\n",
    "# Set the column 'Date' as index (skip if already done)\n",
    "Final_ts = Final_ts.set_index('Date')\n",
    "Final_ts = Final_ts.asfreq('D')\n",
    "\n",
    "Final_ts.dropna(inplace=True)\n",
    "train_data, test_data = Final_ts[0:int(len(Final_ts)*0.8)], Final_ts[int(len(Final_ts)*0.8):]\n",
    "\n",
    "Start_date = test_data.index[0]\n",
    "End_time = test_data.index[-1]\n",
    "\n",
    "\n",
    "ARIMA_Final_Model = sm.tsa.arima.ARIMA(Final_ts[\"UNRATE\"],order=(2,1,0))\n",
    "Model_fit = ARIMA_Final_Model.fit()\n",
    "\n",
    "\n",
    "Prediction = Model_fit.predict(start=Start_date,end=End_time)\n",
    "\n",
    "score_mae = mean_absolute_error(test_data,Prediction)\n",
    "score_rsme = np.sqrt(mean_squared_error(test_data,Prediction))\n",
    "\n",
    "\n",
    "ARIMA_dataframe = pd.DataFrame(test_data)\n",
    "ARIMA_dataframe[\"prediction\"] = Prediction\n",
    "ARIMA_dataframe.plot(figsize=(20,10),title = f\"MAE: {score_mae.round()}, SMA: {score_rsme.round()}, ARIMA\")\n",
    "print(Model_fit.summary())"
   ]
  },
  {
   "cell_type": "code",
   "execution_count": null,
   "metadata": {},
   "outputs": [],
   "source": [
    "plt.figure(figsize=(20,10))\n",
    "plt.plot(Train,color='blue',label='Actual Price')\n",
    "plt.plot(Prediction,color='red', marker='o',linestyle='dashed',label='Predicted Price')\n",
    "plt.plot(Test,color = \"green\",label='Testing Data')\n",
    "plt.title('Apple Inc. Prices Prediction')\n",
    "plt.xlabel('Dates')\n",
    "plt.ylabel('Prices')\n",
    "plt.legend(loc = \"upper left\")"
   ]
  },
  {
   "attachments": {},
   "cell_type": "markdown",
   "metadata": {},
   "source": [
    "## Auto-Time Series Modeling"
   ]
  },
  {
   "cell_type": "code",
   "execution_count": null,
   "metadata": {},
   "outputs": [],
   "source": [
    "# Seasonal - fit stepwise auto-ARIMA\n",
    "smodel = pm.auto_arima(Final_ts, start_p=1, start_q=1,\n",
    "                         test='adf',\n",
    "                         max_p=3, max_q=3, m=12,\n",
    "                         start_P=0, seasonal=True,\n",
    "                         d=None, D=1, trace=True,\n",
    "                         error_action='ignore',  \n",
    "                         suppress_warnings=True, \n",
    "                         stepwise=True)\n",
    "\n",
    "smodel.summary()"
   ]
  },
  {
   "cell_type": "code",
   "execution_count": null,
   "metadata": {},
   "outputs": [],
   "source": [
    "Final_Train_Data, Final_Test_Data = Final_ts[0:int(len(Final_ts)*0.8)], Final_ts[int(len(Final_ts)*0.8):]\n",
    "\n",
    "\n",
    "Start_prediction = Final_Test_Data.index[0]\n",
    "End_prediction   = Final_Test_Data.index[-1]\n",
    "\n",
    "Final_Model = sm.tsa.statespace.SARIMAX(Final_ts,order=(2,0,1),seasonal_order =(2,1,0,12))\n",
    "Final_Model_Fit = Final_Model.fit()\n",
    "\n",
    "\n",
    "Final_Prediction = Final_Model_Fit.predict(start= Start_prediction , end = End_prediction)\n",
    "\n",
    "\n",
    "Final_score_mae = mean_absolute_error(Final_Test_Data,Final_Prediction)\n",
    "Final_score_rsme = np.sqrt(mean_squared_error(Final_Test_Data,Final_Prediction))\n",
    "\n",
    "Sarimax = pd.DataFrame(Final_Test_Data)\n",
    "Sarimax[\"prediction\"] = pd.Series(Final_Prediction,index=Final_Test_Data.index)\n",
    "Sarimax.plot(title = f\"MAE: {Final_score_mae.round()}, SMA: {Final_score_rsme.round()}, SARIMA\",figsize=(20,10))"
   ]
  }
 ],
 "metadata": {
  "kernelspec": {
   "display_name": "Python 3",
   "language": "python",
   "name": "python3"
  },
  "language_info": {
   "codemirror_mode": {
    "name": "ipython",
    "version": 3
   },
   "file_extension": ".py",
   "mimetype": "text/x-python",
   "name": "python",
   "nbconvert_exporter": "python",
   "pygments_lexer": "ipython3",
   "version": "3.9.5"
  },
  "orig_nbformat": 4
 },
 "nbformat": 4,
 "nbformat_minor": 2
}
